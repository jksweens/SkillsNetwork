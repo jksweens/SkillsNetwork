{
 "cells": [
  {
   "cell_type": "markdown",
   "id": "d11f32e9-2224-4dff-b0e4-502c9fdcd830",
   "metadata": {},
   "source": [
    "# Data Science Tools and Ecosystem"
   ]
  },
  {
   "cell_type": "markdown",
   "id": "eb21958f-b28b-4213-bf61-3a1d047a3ce8",
   "metadata": {
    "tags": []
   },
   "source": [
    "In this notebook, Data Science Tools and Ecosystem are summarized"
   ]
  },
  {
   "cell_type": "markdown",
   "id": "9bf68036-9ae3-4435-ba6e-f79688ae5fc2",
   "metadata": {
    "tags": []
   },
   "source": [
    "Some of the popular languages that Data Scientists use are:\n",
    "\n",
    "    1. Python\n",
    "    2. SQL\n",
    "    3. R"
   ]
  },
  {
   "cell_type": "markdown",
   "id": "618fe046-d084-4343-8047-288b184d1d48",
   "metadata": {},
   "source": [
    "Some of the commonly used libraries used by Data Scientists include:\n",
    "\n",
    "    1. ggplot2\n",
    "    2. scikit-learn\n",
    "    3. MatPlotLib"
   ]
  },
  {
   "cell_type": "markdown",
   "id": "d9203932-0478-47e6-ad94-b99f711aefd5",
   "metadata": {
    "tags": []
   },
   "source": [
    "| Data Science Tools |\n",
    "|--------------------|\n",
    "| Jupyter Notebook |\n",
    "| Python |\n",
    "| R |\n",
    "| GitHub |"
   ]
  },
  {
   "cell_type": "markdown",
   "id": "e0414fd3-75a8-4910-9159-41b636e34258",
   "metadata": {},
   "source": [
    "### Below are a few examples of evaluating arithmetic expressions in Python"
   ]
  },
  {
   "cell_type": "code",
   "execution_count": 4,
   "id": "aaebade5-ab3b-4822-a5ff-eaafaf6d8a6f",
   "metadata": {
    "tags": []
   },
   "outputs": [
    {
     "data": {
      "text/plain": [
       "17"
      ]
     },
     "execution_count": 4,
     "metadata": {},
     "output_type": "execute_result"
    }
   ],
   "source": [
    "# This is a simple arithmetic expression to multiply then add integers.\n",
    "(3*4)+5"
   ]
  },
  {
   "cell_type": "code",
   "execution_count": 6,
   "id": "df25b16a-d203-4c55-947e-551730fe1749",
   "metadata": {
    "tags": []
   },
   "outputs": [
    {
     "name": "stdout",
     "output_type": "stream",
     "text": [
      "3.3333333333333335\n"
     ]
    }
   ],
   "source": [
    "# This will convert 200 minutes to hours by dividing by 60\n",
    "minutes = 200\n",
    "hours = minutes / 60\n",
    "print(hours)"
   ]
  },
  {
   "cell_type": "markdown",
   "id": "2024fbd8-7a4d-4095-924c-e9fe5e1d4005",
   "metadata": {},
   "source": [
    "**Objectives:**\n",
    "- List popular languages for data science\n",
    "- Create a Jupyter Notebook with markdown and code cells\n",
    "- List examples of languages, libraries and tools used in Data Science\n",
    "- Share your Jupyter Notebook publicly on GitHub"
   ]
  },
  {
   "cell_type": "markdown",
   "id": "1723ea50-69eb-45ce-b1aa-3392b60f9e8f",
   "metadata": {
    "tags": []
   },
   "source": [
    "## Author\n",
    "Jake S"
   ]
  },
  {
   "cell_type": "code",
   "execution_count": null,
   "id": "93d09c72-72ca-4dd5-b7d6-df87953cb09b",
   "metadata": {},
   "outputs": [],
   "source": []
  }
 ],
 "metadata": {
  "kernelspec": {
   "display_name": "Python",
   "language": "python",
   "name": "conda-env-python-py"
  },
  "language_info": {
   "codemirror_mode": {
    "name": "ipython",
    "version": 3
   },
   "file_extension": ".py",
   "mimetype": "text/x-python",
   "name": "python",
   "nbconvert_exporter": "python",
   "pygments_lexer": "ipython3",
   "version": "3.7.12"
  }
 },
 "nbformat": 4,
 "nbformat_minor": 5
}
